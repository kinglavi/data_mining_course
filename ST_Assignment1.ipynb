{
  "cells": [
    {
      "cell_type": "markdown",
      "metadata": {
        "colab_type": "text",
        "id": "ZzBewf8hxods",
        "pycharm": {}
      },
      "source": [
        "# Advanced Topics in Data Mining and Knowledge Discovery \n",
        "## Assignment 1 \n",
        "## Clustering  \n",
        "**Cluster analysis** or clustering is the task of grouping a set of objects in such \n",
        "a way that objects in the same group (called a cluster) are more similar (in \n",
        "some sense) to each other than to those in other groups (clusters). [Wikipedia](https://en.wikipedia.org/wiki/Cluster_analysis)\n",
        "### DBSCAN\n",
        "**DBSCAN** (Density-based spatial clustering of applications with noise) is a density-based clustering non-parametric algorithm: given a set of points in some space, it groups together points that are closely packed together (points with many nearby neighbors), marking as outliers points that lie alone in low-density regions (whose nearest neighbors are too far away). DBSCAN is one of the most common clustering algorithms and also most cited in scientific literature. [Wikipedia](https://en.wikipedia.org/wiki/DBSCAN)\n",
        "\n",
        "For some intuition on clustering visit the following website:\n",
        "https://www.naftaliharris.com/blog/visualizing-dbscan-clustering/\n",
        "\n",
        "### K-means \n",
        "K-means clustering aims to partition n observations into k clusters in which each observation belongs to the cluster with the nearest mean, serving as a prototype of the cluster.  [Wikipedia](https://en.wikipedia.org/wiki/K-means_clustering)\n",
        "\n",
        "## Questions"
      ]
    },
    {
      "cell_type": "markdown",
      "metadata": {
        "colab_type": "text",
        "id": "krlBoN97xzgC",
        "pycharm": {}
      },
      "source": [
        "**1.** What are the advantages of using DBSCAN as compared to other clustering methods?"
      ]
    },
    {
      "cell_type": "markdown",
      "metadata": {
        "colab_type": "text",
        "id": "Ho2C_nUjx25Q",
        "pycharm": {}
      },
      "source": [
        "[ Type you answer here ]"
      ]
    },
    {
      "cell_type": "markdown",
      "metadata": {
        "colab_type": "text",
        "id": "C-6fSfIYx6ri",
        "pycharm": {}
      },
      "source": [
        "**2.** What points are considered ***core points***? And what points are considered ***outliers***?"
      ]
    },
    {
      "cell_type": "markdown",
      "metadata": {
        "colab_type": "text",
        "id": "MRtQNjfEyBcw",
        "pycharm": {}
      },
      "source": [
        "[ Type you answer here ]"
      ]
    },
    {
      "cell_type": "markdown",
      "metadata": {
        "colab_type": "text",
        "id": "VgssSfylyEbF",
        "pycharm": {}
      },
      "source": [
        "**3.** For the following graph and minPts values:\n",
        "\n",
        "\u003e **a.** Mark the clusters that DBSCAN will generate (Specify the letters, e.g. cluster 1: A,B clster 2: C, G, H)\n",
        "\n",
        "\u003e **b.** Specify for each point if it is a core point.\n",
        "\n",
        "\u003e **c.** How does the ε value affect the clustering? \n",
        "\n",
        "**minPts \u003d 3, 4, 5**\n",
        "\n",
        "\n",
        "\n",
        "![dbscan_example](http://i68.tinypic.com/k1t8xt.png) \n",
        "\n"
      ]
    },
    {
      "cell_type": "markdown",
      "metadata": {
        "colab_type": "text",
        "id": "pa-SRonUyIBK",
        "pycharm": {}
      },
      "source": [
        "## Code"
      ]
    },
    {
      "cell_type": "code",
      "execution_count": 5,
      "metadata": {
        "colab": {},
        "colab_type": "code",
        "id": "h5LeLN7nx_LV",
        "pycharm": {}
      },
      "outputs": [],
      "source": [
        "from collections import Counter\n",
        "\n",
        "import pandas as pd\n",
        "\n",
        "import matplotlib.pyplot as plt\n",
        "plt.style.use(\u0027ggplot\u0027)\n",
        "%matplotlib inline\n",
        "\n",
        "import numpy as np\n",
        "\n",
        "from sklearn.cluster import DBSCAN\n",
        "from sklearn.cluster import KMeans\n",
        "\n",
        "from sklearn.preprocessing import StandardScaler"
      ]
    },
    {
      "cell_type": "code",
      "execution_count": 6,
      "metadata": {
        "colab": {},
        "colab_type": "code",
        "id": "brRYuY2GyRz0",
        "pycharm": {}
      },
      "outputs": [
        {
          "name": "stdout",
          "output_type": "stream",
          "text": [
            "dfdfd\n"
          ]
        }
      ],
      "source": [
        "df \u003d pd.read_csv(\u0027https://raw.githubusercontent.com/m-braverman/ta_dm_course_data/master/x_y_terrorism_data.csv\u0027)\n"
      ]
    },
    {
      "cell_type": "markdown",
      "metadata": {
        "colab_type": "text",
        "id": "0b8CoUsW0LYW",
        "pycharm": {}
      },
      "source": [
        "**4**.  Plot the data using a scatterplot. "
      ]
    },
    {
      "cell_type": "code",
      "execution_count": 7,
      "metadata": {
        "colab": {},
        "colab_type": "code",
        "id": "7_Mze3Vi0MpG",
        "pycharm": {}
      },
      "outputs": [
        {
          "data": {
            "text/html": [
              "\u003cdiv\u003e\n",
              "\u003cstyle scoped\u003e\n",
              "    .dataframe tbody tr th:only-of-type {\n",
              "        vertical-align: middle;\n",
              "    }\n",
              "\n",
              "    .dataframe tbody tr th {\n",
              "        vertical-align: top;\n",
              "    }\n",
              "\n",
              "    .dataframe thead th {\n",
              "        text-align: right;\n",
              "    }\n",
              "\u003c/style\u003e\n",
              "\u003ctable border\u003d\"1\" class\u003d\"dataframe\"\u003e\n",
              "  \u003cthead\u003e\n",
              "    \u003ctr style\u003d\"text-align: right;\"\u003e\n",
              "      \u003cth\u003e\u003c/th\u003e\n",
              "      \u003cth\u003elatitude\u003c/th\u003e\n",
              "      \u003cth\u003elongitude\u003c/th\u003e\n",
              "    \u003c/tr\u003e\n",
              "  \u003c/thead\u003e\n",
              "  \u003ctbody\u003e\n",
              "    \u003ctr\u003e\n",
              "      \u003cth\u003e0\u003c/th\u003e\n",
              "      \u003ctd\u003e35.404019\u003c/td\u003e\n",
              "      \u003ctd\u003e44.339455\u003c/td\u003e\n",
              "    \u003c/tr\u003e\n",
              "    \u003ctr\u003e\n",
              "      \u003cth\u003e1\u003c/th\u003e\n",
              "      \u003ctd\u003e32.161864\u003c/td\u003e\n",
              "      \u003ctd\u003e35.137217\u003c/td\u003e\n",
              "    \u003c/tr\u003e\n",
              "    \u003ctr\u003e\n",
              "      \u003cth\u003e2\u003c/th\u003e\n",
              "      \u003ctd\u003e32.874613\u003c/td\u003e\n",
              "      \u003ctd\u003e13.118048\u003c/td\u003e\n",
              "    \u003c/tr\u003e\n",
              "    \u003ctr\u003e\n",
              "      \u003cth\u003e3\u003c/th\u003e\n",
              "      \u003ctd\u003e31.585831\u003c/td\u003e\n",
              "      \u003ctd\u003e67.028191\u003c/td\u003e\n",
              "    \u003c/tr\u003e\n",
              "    \u003ctr\u003e\n",
              "      \u003cth\u003e4\u003c/th\u003e\n",
              "      \u003ctd\u003e32.051371\u003c/td\u003e\n",
              "      \u003ctd\u003e34.754664\u003c/td\u003e\n",
              "    \u003c/tr\u003e\n",
              "    \u003ctr\u003e\n",
              "      \u003cth\u003e5\u003c/th\u003e\n",
              "      \u003ctd\u003e36.340133\u003c/td\u003e\n",
              "      \u003ctd\u003e43.130000\u003c/td\u003e\n",
              "    \u003c/tr\u003e\n",
              "    \u003ctr\u003e\n",
              "      \u003cth\u003e6\u003c/th\u003e\n",
              "      \u003ctd\u003e32.940799\u003c/td\u003e\n",
              "      \u003ctd\u003e35.495406\u003c/td\u003e\n",
              "    \u003c/tr\u003e\n",
              "    \u003ctr\u003e\n",
              "      \u003cth\u003e7\u003c/th\u003e\n",
              "      \u003ctd\u003e34.730609\u003c/td\u003e\n",
              "      \u003ctd\u003e36.715225\u003c/td\u003e\n",
              "    \u003c/tr\u003e\n",
              "    \u003ctr\u003e\n",
              "      \u003cth\u003e8\u003c/th\u003e\n",
              "      \u003ctd\u003e26.130000\u003c/td\u003e\n",
              "      \u003ctd\u003e50.555000\u003c/td\u003e\n",
              "    \u003c/tr\u003e\n",
              "    \u003ctr\u003e\n",
              "      \u003cth\u003e9\u003c/th\u003e\n",
              "      \u003ctd\u003e34.475521\u003c/td\u003e\n",
              "      \u003ctd\u003e43.731014\u003c/td\u003e\n",
              "    \u003c/tr\u003e\n",
              "    \u003ctr\u003e\n",
              "      \u003cth\u003e10\u003c/th\u003e\n",
              "      \u003ctd\u003e33.700000\u003c/td\u003e\n",
              "      \u003ctd\u003e45.083333\u003c/td\u003e\n",
              "    \u003c/tr\u003e\n",
              "    \u003ctr\u003e\n",
              "      \u003cth\u003e11\u003c/th\u003e\n",
              "      \u003ctd\u003e33.356781\u003c/td\u003e\n",
              "      \u003ctd\u003e44.484232\u003c/td\u003e\n",
              "    \u003c/tr\u003e\n",
              "    \u003ctr\u003e\n",
              "      \u003cth\u003e12\u003c/th\u003e\n",
              "      \u003ctd\u003e32.884051\u003c/td\u003e\n",
              "      \u003ctd\u003e67.904670\u003c/td\u003e\n",
              "    \u003c/tr\u003e\n",
              "    \u003ctr\u003e\n",
              "      \u003cth\u003e13\u003c/th\u003e\n",
              "      \u003ctd\u003e34.542778\u003c/td\u003e\n",
              "      \u003ctd\u003e72.308056\u003c/td\u003e\n",
              "    \u003c/tr\u003e\n",
              "    \u003ctr\u003e\n",
              "      \u003cth\u003e14\u003c/th\u003e\n",
              "      \u003ctd\u003e6.741015\u003c/td\u003e\n",
              "      \u003ctd\u003e14.948694\u003c/td\u003e\n",
              "    \u003c/tr\u003e\n",
              "    \u003ctr\u003e\n",
              "      \u003cth\u003e15\u003c/th\u003e\n",
              "      \u003ctd\u003e43.171028\u003c/td\u003e\n",
              "      \u003ctd\u003e46.836731\u003c/td\u003e\n",
              "    \u003c/tr\u003e\n",
              "    \u003ctr\u003e\n",
              "      \u003cth\u003e16\u003c/th\u003e\n",
              "      \u003ctd\u003e15.411662\u003c/td\u003e\n",
              "      \u003ctd\u003e12.765904\u003c/td\u003e\n",
              "    \u003c/tr\u003e\n",
              "    \u003ctr\u003e\n",
              "      \u003cth\u003e17\u003c/th\u003e\n",
              "      \u003ctd\u003e36.375125\u003c/td\u003e\n",
              "      \u003ctd\u003e43.170389\u003c/td\u003e\n",
              "    \u003c/tr\u003e\n",
              "    \u003ctr\u003e\n",
              "      \u003cth\u003e18\u003c/th\u003e\n",
              "      \u003ctd\u003e24.960603\u003c/td\u003e\n",
              "      \u003ctd\u003e67.062575\u003c/td\u003e\n",
              "    \u003c/tr\u003e\n",
              "    \u003ctr\u003e\n",
              "      \u003cth\u003e19\u003c/th\u003e\n",
              "      \u003ctd\u003e31.538280\u003c/td\u003e\n",
              "      \u003ctd\u003e34.536952\u003c/td\u003e\n",
              "    \u003c/tr\u003e\n",
              "    \u003ctr\u003e\n",
              "      \u003cth\u003e20\u003c/th\u003e\n",
              "      \u003ctd\u003e33.325000\u003c/td\u003e\n",
              "      \u003ctd\u003e44.422000\u003c/td\u003e\n",
              "    \u003c/tr\u003e\n",
              "    \u003ctr\u003e\n",
              "      \u003cth\u003e21\u003c/th\u003e\n",
              "      \u003ctd\u003e32.305706\u003c/td\u003e\n",
              "      \u003ctd\u003e66.531372\u003c/td\u003e\n",
              "    \u003c/tr\u003e\n",
              "    \u003ctr\u003e\n",
              "      \u003cth\u003e22\u003c/th\u003e\n",
              "      \u003ctd\u003e35.468830\u003c/td\u003e\n",
              "      \u003ctd\u003e44.390980\u003c/td\u003e\n",
              "    \u003c/tr\u003e\n",
              "    \u003ctr\u003e\n",
              "      \u003cth\u003e23\u003c/th\u003e\n",
              "      \u003ctd\u003e33.298668\u003c/td\u003e\n",
              "      \u003ctd\u003e44.423197\u003c/td\u003e\n",
              "    \u003c/tr\u003e\n",
              "    \u003ctr\u003e\n",
              "      \u003cth\u003e24\u003c/th\u003e\n",
              "      \u003ctd\u003e34.341944\u003c/td\u003e\n",
              "      \u003ctd\u003e62.203056\u003c/td\u003e\n",
              "    \u003c/tr\u003e\n",
              "    \u003ctr\u003e\n",
              "      \u003cth\u003e25\u003c/th\u003e\n",
              "      \u003ctd\u003e4.841730\u003c/td\u003e\n",
              "      \u003ctd\u003e31.603631\u003c/td\u003e\n",
              "    \u003c/tr\u003e\n",
              "    \u003ctr\u003e\n",
              "      \u003cth\u003e26\u003c/th\u003e\n",
              "      \u003ctd\u003e35.468739\u003c/td\u003e\n",
              "      \u003ctd\u003e44.391315\u003c/td\u003e\n",
              "    \u003c/tr\u003e\n",
              "    \u003ctr\u003e\n",
              "      \u003cth\u003e27\u003c/th\u003e\n",
              "      \u003ctd\u003e31.558212\u003c/td\u003e\n",
              "      \u003ctd\u003e34.543305\u003c/td\u003e\n",
              "    \u003c/tr\u003e\n",
              "    \u003ctr\u003e\n",
              "      \u003cth\u003e28\u003c/th\u003e\n",
              "      \u003ctd\u003e14.411870\u003c/td\u003e\n",
              "      \u003ctd\u003e44.836514\u003c/td\u003e\n",
              "    \u003c/tr\u003e\n",
              "    \u003ctr\u003e\n",
              "      \u003cth\u003e29\u003c/th\u003e\n",
              "      \u003ctd\u003e22.632149\u003c/td\u003e\n",
              "      \u003ctd\u003e86.764311\u003c/td\u003e\n",
              "    \u003c/tr\u003e\n",
              "    \u003ctr\u003e\n",
              "      \u003cth\u003e...\u003c/th\u003e\n",
              "      \u003ctd\u003e...\u003c/td\u003e\n",
              "      \u003ctd\u003e...\u003c/td\u003e\n",
              "    \u003c/tr\u003e\n",
              "    \u003ctr\u003e\n",
              "      \u003cth\u003e23066\u003c/th\u003e\n",
              "      \u003ctd\u003e31.611450\u003c/td\u003e\n",
              "      \u003ctd\u003e65.624260\u003c/td\u003e\n",
              "    \u003c/tr\u003e\n",
              "    \u003ctr\u003e\n",
              "      \u003cth\u003e23067\u003c/th\u003e\n",
              "      \u003ctd\u003e15.355873\u003c/td\u003e\n",
              "      \u003ctd\u003e44.213536\u003c/td\u003e\n",
              "    \u003c/tr\u003e\n",
              "    \u003ctr\u003e\n",
              "      \u003cth\u003e23068\u003c/th\u003e\n",
              "      \u003ctd\u003e30.267605\u003c/td\u003e\n",
              "      \u003ctd\u003e-97.742984\u003c/td\u003e\n",
              "    \u003c/tr\u003e\n",
              "    \u003ctr\u003e\n",
              "      \u003cth\u003e23069\u003c/th\u003e\n",
              "      \u003ctd\u003e31.592610\u003c/td\u003e\n",
              "      \u003ctd\u003e64.344563\u003c/td\u003e\n",
              "    \u003c/tr\u003e\n",
              "    \u003ctr\u003e\n",
              "      \u003cth\u003e23070\u003c/th\u003e\n",
              "      \u003ctd\u003e33.079145\u003c/td\u003e\n",
              "      \u003ctd\u003e44.252899\u003c/td\u003e\n",
              "    \u003c/tr\u003e\n",
              "    \u003ctr\u003e\n",
              "      \u003cth\u003e23071\u003c/th\u003e\n",
              "      \u003ctd\u003e36.216910\u003c/td\u003e\n",
              "      \u003ctd\u003e65.934158\u003c/td\u003e\n",
              "    \u003c/tr\u003e\n",
              "    \u003ctr\u003e\n",
              "      \u003cth\u003e23072\u003c/th\u003e\n",
              "      \u003ctd\u003e24.806299\u003c/td\u003e\n",
              "      \u003ctd\u003e93.948197\u003c/td\u003e\n",
              "    \u003c/tr\u003e\n",
              "    \u003ctr\u003e\n",
              "      \u003cth\u003e23073\u003c/th\u003e\n",
              "      \u003ctd\u003e33.300000\u003c/td\u003e\n",
              "      \u003ctd\u003e44.400000\u003c/td\u003e\n",
              "    \u003c/tr\u003e\n",
              "    \u003ctr\u003e\n",
              "      \u003cth\u003e23074\u003c/th\u003e\n",
              "      \u003ctd\u003e33.336728\u003c/td\u003e\n",
              "      \u003ctd\u003e69.923834\u003c/td\u003e\n",
              "    \u003c/tr\u003e\n",
              "    \u003ctr\u003e\n",
              "      \u003cth\u003e23075\u003c/th\u003e\n",
              "      \u003ctd\u003e34.389294\u003c/td\u003e\n",
              "      \u003ctd\u003e63.376278\u003c/td\u003e\n",
              "    \u003c/tr\u003e\n",
              "    \u003ctr\u003e\n",
              "      \u003cth\u003e23076\u003c/th\u003e\n",
              "      \u003ctd\u003e33.511100\u003c/td\u003e\n",
              "      \u003ctd\u003e36.306400\u003c/td\u003e\n",
              "    \u003c/tr\u003e\n",
              "    \u003ctr\u003e\n",
              "      \u003cth\u003e23077\u003c/th\u003e\n",
              "      \u003ctd\u003e48.062222\u003c/td\u003e\n",
              "      \u003ctd\u003e37.675000\u003c/td\u003e\n",
              "    \u003c/tr\u003e\n",
              "    \u003ctr\u003e\n",
              "      \u003cth\u003e23078\u003c/th\u003e\n",
              "      \u003ctd\u003e33.277992\u003c/td\u003e\n",
              "      \u003ctd\u003e44.328297\u003c/td\u003e\n",
              "    \u003c/tr\u003e\n",
              "    \u003ctr\u003e\n",
              "      \u003cth\u003e23079\u003c/th\u003e\n",
              "      \u003ctd\u003e11.935867\u003c/td\u003e\n",
              "      \u003ctd\u003e123.772197\u003c/td\u003e\n",
              "    \u003c/tr\u003e\n",
              "    \u003ctr\u003e\n",
              "      \u003cth\u003e23080\u003c/th\u003e\n",
              "      \u003ctd\u003e47.878333\u003c/td\u003e\n",
              "      \u003ctd\u003e38.903889\u003c/td\u003e\n",
              "    \u003c/tr\u003e\n",
              "    \u003ctr\u003e\n",
              "      \u003cth\u003e23081\u003c/th\u003e\n",
              "      \u003ctd\u003e34.938575\u003c/td\u003e\n",
              "      \u003ctd\u003e72.425853\u003c/td\u003e\n",
              "    \u003c/tr\u003e\n",
              "    \u003ctr\u003e\n",
              "      \u003cth\u003e23082\u003c/th\u003e\n",
              "      \u003ctd\u003e36.373718\u003c/td\u003e\n",
              "      \u003ctd\u003e42.451778\u003c/td\u003e\n",
              "    \u003c/tr\u003e\n",
              "    \u003ctr\u003e\n",
              "      \u003cth\u003e23083\u003c/th\u003e\n",
              "      \u003ctd\u003e18.559757\u003c/td\u003e\n",
              "      \u003ctd\u003e80.924230\u003c/td\u003e\n",
              "    \u003c/tr\u003e\n",
              "    \u003ctr\u003e\n",
              "      \u003cth\u003e23084\u003c/th\u003e\n",
              "      \u003ctd\u003e13.809722\u003c/td\u003e\n",
              "      \u003ctd\u003e100.537722\u003c/td\u003e\n",
              "    \u003c/tr\u003e\n",
              "    \u003ctr\u003e\n",
              "      \u003cth\u003e23085\u003c/th\u003e\n",
              "      \u003ctd\u003e33.342257\u003c/td\u003e\n",
              "      \u003ctd\u003e44.398416\u003c/td\u003e\n",
              "    \u003c/tr\u003e\n",
              "    \u003ctr\u003e\n",
              "      \u003cth\u003e23086\u003c/th\u003e\n",
              "      \u003ctd\u003e13.301000\u003c/td\u003e\n",
              "      \u003ctd\u003e123.438000\u003c/td\u003e\n",
              "    \u003c/tr\u003e\n",
              "    \u003ctr\u003e\n",
              "      \u003cth\u003e23087\u003c/th\u003e\n",
              "      \u003ctd\u003e13.727896\u003c/td\u003e\n",
              "      \u003ctd\u003e100.524124\u003c/td\u003e\n",
              "    \u003c/tr\u003e\n",
              "    \u003ctr\u003e\n",
              "      \u003cth\u003e23088\u003c/th\u003e\n",
              "      \u003ctd\u003e25.224232\u003c/td\u003e\n",
              "      \u003ctd\u003e90.376999\u003c/td\u003e\n",
              "    \u003c/tr\u003e\n",
              "    \u003ctr\u003e\n",
              "      \u003cth\u003e23089\u003c/th\u003e\n",
              "      \u003ctd\u003e28.086801\u003c/td\u003e\n",
              "      \u003ctd\u003e30.762019\u003c/td\u003e\n",
              "    \u003c/tr\u003e\n",
              "    \u003ctr\u003e\n",
              "      \u003cth\u003e23090\u003c/th\u003e\n",
              "      \u003ctd\u003e36.335482\u003c/td\u003e\n",
              "      \u003ctd\u003e43.102331\u003c/td\u003e\n",
              "    \u003c/tr\u003e\n",
              "    \u003ctr\u003e\n",
              "      \u003cth\u003e23091\u003c/th\u003e\n",
              "      \u003ctd\u003e47.098056\u003c/td\u003e\n",
              "      \u003ctd\u003e37.810278\u003c/td\u003e\n",
              "    \u003c/tr\u003e\n",
              "    \u003ctr\u003e\n",
              "      \u003cth\u003e23092\u003c/th\u003e\n",
              "      \u003ctd\u003e6.175372\u003c/td\u003e\n",
              "      \u003ctd\u003e101.501602\u003c/td\u003e\n",
              "    \u003c/tr\u003e\n",
              "    \u003ctr\u003e\n",
              "      \u003cth\u003e23093\u003c/th\u003e\n",
              "      \u003ctd\u003e25.379393\u003c/td\u003e\n",
              "      \u003ctd\u003e68.368578\u003c/td\u003e\n",
              "    \u003c/tr\u003e\n",
              "    \u003ctr\u003e\n",
              "      \u003cth\u003e23094\u003c/th\u003e\n",
              "      \u003ctd\u003e33.336728\u003c/td\u003e\n",
              "      \u003ctd\u003e69.923834\u003c/td\u003e\n",
              "    \u003c/tr\u003e\n",
              "    \u003ctr\u003e\n",
              "      \u003cth\u003e23095\u003c/th\u003e\n",
              "      \u003ctd\u003e33.300000\u003c/td\u003e\n",
              "      \u003ctd\u003e44.400000\u003c/td\u003e\n",
              "    \u003c/tr\u003e\n",
              "  \u003c/tbody\u003e\n",
              "\u003c/table\u003e\n",
              "\u003cp\u003e23096 rows × 2 columns\u003c/p\u003e\n",
              "\u003c/div\u003e"
            ],
            "text/plain": [
              "        latitude   longitude\n",
              "0      35.404019   44.339455\n",
              "1      32.161864   35.137217\n",
              "2      32.874613   13.118048\n",
              "3      31.585831   67.028191\n",
              "4      32.051371   34.754664\n",
              "5      36.340133   43.130000\n",
              "6      32.940799   35.495406\n",
              "7      34.730609   36.715225\n",
              "8      26.130000   50.555000\n",
              "9      34.475521   43.731014\n",
              "10     33.700000   45.083333\n",
              "11     33.356781   44.484232\n",
              "12     32.884051   67.904670\n",
              "13     34.542778   72.308056\n",
              "14      6.741015   14.948694\n",
              "15     43.171028   46.836731\n",
              "16     15.411662   12.765904\n",
              "17     36.375125   43.170389\n",
              "18     24.960603   67.062575\n",
              "19     31.538280   34.536952\n",
              "20     33.325000   44.422000\n",
              "21     32.305706   66.531372\n",
              "22     35.468830   44.390980\n",
              "23     33.298668   44.423197\n",
              "24     34.341944   62.203056\n",
              "25      4.841730   31.603631\n",
              "26     35.468739   44.391315\n",
              "27     31.558212   34.543305\n",
              "28     14.411870   44.836514\n",
              "29     22.632149   86.764311\n",
              "...          ...         ...\n",
              "23066  31.611450   65.624260\n",
              "23067  15.355873   44.213536\n",
              "23068  30.267605  -97.742984\n",
              "23069  31.592610   64.344563\n",
              "23070  33.079145   44.252899\n",
              "23071  36.216910   65.934158\n",
              "23072  24.806299   93.948197\n",
              "23073  33.300000   44.400000\n",
              "23074  33.336728   69.923834\n",
              "23075  34.389294   63.376278\n",
              "23076  33.511100   36.306400\n",
              "23077  48.062222   37.675000\n",
              "23078  33.277992   44.328297\n",
              "23079  11.935867  123.772197\n",
              "23080  47.878333   38.903889\n",
              "23081  34.938575   72.425853\n",
              "23082  36.373718   42.451778\n",
              "23083  18.559757   80.924230\n",
              "23084  13.809722  100.537722\n",
              "23085  33.342257   44.398416\n",
              "23086  13.301000  123.438000\n",
              "23087  13.727896  100.524124\n",
              "23088  25.224232   90.376999\n",
              "23089  28.086801   30.762019\n",
              "23090  36.335482   43.102331\n",
              "23091  47.098056   37.810278\n",
              "23092   6.175372  101.501602\n",
              "23093  25.379393   68.368578\n",
              "23094  33.336728   69.923834\n",
              "23095  33.300000   44.400000\n",
              "\n",
              "[23096 rows x 2 columns]"
            ]
          },
          "execution_count": 7,
          "metadata": {},
          "output_type": "execute_result"
        }
      ],
      "source": [
        "\n",
        "df\n"
      ]
    },
    {
      "cell_type": "markdown",
      "metadata": {
        "colab_type": "text",
        "id": "pHIbI73N0Per",
        "pycharm": {}
      },
      "source": [
        "5. a. Scale the data,  and plot the result. \n",
        "\n",
        "    b. Explain why it is a recommended step for DBSCAN."
      ]
    },
    {
      "cell_type": "code",
      "execution_count": 0,
      "metadata": {
        "colab": {},
        "colab_type": "code",
        "id": "lS4Uk3yc0T5P",
        "pycharm": {}
      },
      "outputs": [],
      "source": []
    },
    {
      "cell_type": "markdown",
      "metadata": {
        "colab_type": "text",
        "id": "O-w95E-k0YWW",
        "pycharm": {}
      },
      "source": [
        "[ Type you answer here ]"
      ]
    },
    {
      "cell_type": "markdown",
      "metadata": {
        "colab_type": "text",
        "id": "shUIIEIT0erv",
        "pycharm": {}
      },
      "source": [
        "6. Run the DBSCAN algorithm, and explain how you chose Epsilon (ε) and minPts parameters. "
      ]
    },
    {
      "cell_type": "code",
      "execution_count": 0,
      "metadata": {
        "colab": {},
        "colab_type": "code",
        "id": "ug_DRXUI0Y_e",
        "pycharm": {}
      },
      "outputs": [],
      "source": ""
    },
    {
      "cell_type": "markdown",
      "metadata": {
        "colab_type": "text",
        "id": "N5uvXE2X0l7t",
        "pycharm": {}
      },
      "source": [
        "7. Plot the result."
      ]
    },
    {
      "cell_type": "code",
      "execution_count": 0,
      "metadata": {
        "colab": {},
        "colab_type": "code",
        "id": "-mNA48ar0lEa",
        "pycharm": {}
      },
      "outputs": [],
      "source": []
    },
    {
      "cell_type": "markdown",
      "metadata": {
        "colab_type": "text",
        "id": "7yfk_0Fs5cIn",
        "pycharm": {}
      },
      "source": [
        "7. How many clusters did you get?"
      ]
    },
    {
      "cell_type": "markdown",
      "metadata": {
        "colab_type": "text",
        "id": "6BUbyvY15mbR",
        "pycharm": {}
      },
      "source": [
        "[ Type you answer here ]"
      ]
    },
    {
      "cell_type": "markdown",
      "metadata": {
        "colab_type": "text",
        "id": "QEebVoxU5t1U",
        "pycharm": {}
      },
      "source": [
        "# Kmeans\n",
        "\n",
        "8. Choose the number of clusters to use with Kmeans and explain you choice."
      ]
    },
    {
      "cell_type": "markdown",
      "metadata": {
        "colab_type": "text",
        "id": "4b1yRMX05xcQ",
        "pycharm": {}
      },
      "source": [
        "[ Type you answer here ]"
      ]
    },
    {
      "cell_type": "markdown",
      "metadata": {
        "colab_type": "text",
        "id": "qFELDU1Z5xln",
        "pycharm": {}
      },
      "source": [
        "9. Run the K-means algorithm with your chosen number of clusters and plot the result."
      ]
    },
    {
      "cell_type": "code",
      "execution_count": 0,
      "metadata": {
        "colab": {},
        "colab_type": "code",
        "id": "OOaNAI2_5jGu",
        "pycharm": {}
      },
      "outputs": [],
      "source": []
    },
    {
      "cell_type": "markdown",
      "metadata": {
        "colab_type": "text",
        "id": "_caL9ywY6Ayo",
        "pycharm": {}
      },
      "source": [
        "# Conclusion\n",
        "\n",
        "9. Which algorithm is a better fit for this data and why? "
      ]
    },
    {
      "cell_type": "markdown",
      "metadata": {
        "colab_type": "text",
        "id": "1jtubMWD6D4T",
        "pycharm": {}
      },
      "source": [
        "[ Type you answer here ]"
      ]
    },
    {
      "cell_type": "code",
      "execution_count": 0,
      "metadata": {
        "colab": {},
        "colab_type": "code",
        "id": "PB156-176Bmu",
        "pycharm": {}
      },
      "outputs": [],
      "source": []
    }
  ],
  "metadata": {
    "colab": {
      "collapsed_sections": [],
      "name": "ST_Assignment_1.ipynb",
      "provenance": [],
      "version": "0.3.2"
    },
    "kernelspec": {
      "display_name": "Python 3",
      "language": "python",
      "name": "python3"
    },
    "language_info": {
      "codemirror_mode": {
        "name": "ipython",
        "version": 3
      },
      "file_extension": ".py",
      "mimetype": "text/x-python",
      "name": "python",
      "nbconvert_exporter": "python",
      "pygments_lexer": "ipython3",
      "version": "3.7.3"
    }
  },
  "nbformat": 4,
  "nbformat_minor": 1
}