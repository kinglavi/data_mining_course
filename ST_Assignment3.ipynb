{
  "nbformat": 4,
  "nbformat_minor": 0,
  "metadata": {
    "colab": {
      "name": "ST_Assignment3.ipynb",
      "version": "0.3.2",
      "provenance": [],
      "collapsed_sections": []
    },
    "kernelspec": {
      "name": "python3",
      "language": "python",
      "display_name": "Python 3"
    }
  },
  "cells": [
    {
      "cell_type": "markdown",
      "metadata": {
        "id": "c9QlID0cn3XY",
        "colab_type": "text",
        "pycharm": {}
      },
      "source": [
        "# Advanced Topics in Data Mining and Knowledge Discovery \n",
        "## Word2Vec\n",
        "Word2vec is a group of related models that are used to produce word embeddings. These models are shallow, two-layer neural networks that are trained to reconstruct linguistic contexts of words. Word2vec takes as its input a large corpus of text and produces a vector space, typically of several hundred dimensions, with each unique word in the corpus being assigned a corresponding vector in the space. Word vectors are positioned in the vector space such that words that share common contexts in the corpus are located in close proximity to one another in the space. [Wikipedia](https://en.wikipedia.org/wiki/Word2vec)\n",
        "\n",
        "## Questions"
      ]
    },
    {
      "cell_type": "markdown",
      "metadata": {
        "id": "bST4DVh-uEW-",
        "colab_type": "text",
        "pycharm": {}
      },
      "source": [
        "1. What are word embeddings?"
      ]
    },
    {
      "cell_type": "markdown",
      "metadata": {
        "id": "odb2g8RWn7hx",
        "colab_type": "text",
        "pycharm": {}
      },
      "source": [
        "[Type your answer here]"
      ]
    },
    {
      "cell_type": "markdown",
      "metadata": {
        "id": "94qoRwwFn8nk",
        "colab_type": "text",
        "pycharm": {}
      },
      "source": [
        "2. Propose a way to create sentence (or full review) embeddings out of word embeddings. What will happen if you use your proposed embeddings on very long texts?"
      ]
    },
    {
      "cell_type": "markdown",
      "metadata": {
        "id": "KZyxL6J9oBW4",
        "colab_type": "text",
        "pycharm": {}
      },
      "source": [
        "[Type your answer here]"
      ]
    },
    {
      "cell_type": "markdown",
      "metadata": {
        "id": "Ys8YVaLfoE5n",
        "colab_type": "text",
        "pycharm": {}
      },
      "source": [
        "3. What are the advantages of using embedding as opposed to other vector representations (counter vectorization, tf-idf)?"
      ]
    },
    {
      "cell_type": "markdown",
      "metadata": {
        "id": "QALzmAgNoJdr",
        "colab_type": "text",
        "pycharm": {}
      },
      "source": [
        "[Type your answer here]"
      ]
    },
    {
      "cell_type": "markdown",
      "metadata": {
        "id": "LgolQsJzoMCb",
        "colab_type": "text",
        "pycharm": {}
      },
      "source": [
        "# CODE"
      ]
    },
    {
      "cell_type": "code",
      "metadata": {
        "id": "-i5J5W6aoJDx",
        "colab_type": "code",
        "colab": {},
        "pycharm": {}
      },
      "source": "# imports - add additional imports here\nimport pandas as pd\n",
      "execution_count": 0,
      "outputs": []
    },
    {
      "cell_type": "code",
      "metadata": {
        "id": "n7qq_EDAnytk",
        "colab_type": "code",
        "colab": {},
        "pycharm": {}
      },
      "source": [
        "df \u003d pd.read_csv(\u0027https://raw.githubusercontent.com/m-braverman/ta_dm_course_data/master/train3.csv\u0027)"
      ],
      "execution_count": 0,
      "outputs": []
    },
    {
      "cell_type": "markdown",
      "metadata": {
        "id": "08pyl3Fxoi2P",
        "colab_type": "text",
        "pycharm": {}
      },
      "source": [
        "4. a. Explain the following Word2Vec parameters:\n",
        "        * min_count\n",
        "        * size\n",
        "        * window\n",
        "    b. Prepare you data for the word2vec model.\n",
        "    \n",
        "    c. Create a word2vec model using Gensim, what vector size will you choose? "
      ]
    },
    {
      "cell_type": "markdown",
      "metadata": {
        "id": "NEF6HYDAoy_u",
        "colab_type": "text",
        "pycharm": {}
      },
      "source": [
        "[Type your answer  for 4a here]\n"
      ]
    },
    {
      "cell_type": "code",
      "metadata": {
        "id": "XHrVt5vXobnj",
        "colab_type": "code",
        "colab": {},
        "pycharm": {}
      },
      "source": [
        ""
      ],
      "execution_count": 0,
      "outputs": []
    },
    {
      "cell_type": "markdown",
      "metadata": {
        "id": "V70BiX0go6yH",
        "colab_type": "text",
        "pycharm": {}
      },
      "source": [
        "5. What is the models vocabulary size? "
      ]
    },
    {
      "cell_type": "code",
      "metadata": {
        "id": "JgWuIbSNo841",
        "colab_type": "code",
        "colab": {},
        "pycharm": {}
      },
      "source": [
        ""
      ],
      "execution_count": 0,
      "outputs": []
    },
    {
      "cell_type": "markdown",
      "metadata": {
        "id": "w_2L-mw3pAYU",
        "colab_type": "text",
        "pycharm": {}
      },
      "source": [
        "6. a. Display the 10 most similar words to \u0027good\u0027 according to the Word2Vec model.\n",
        "\n",
        "    b. Explain why \u0027bad\u0027/\u0027terrible\u0027 are similar to \u0027good\u0027 according to the model."
      ]
    },
    {
      "cell_type": "code",
      "metadata": {
        "id": "dveFnrU8pCh5",
        "colab_type": "code",
        "colab": {},
        "pycharm": {}
      },
      "source": [
        ""
      ],
      "execution_count": 0,
      "outputs": []
    },
    {
      "cell_type": "markdown",
      "metadata": {
        "id": "--knh9M0pEX0",
        "colab_type": "text",
        "pycharm": {}
      },
      "source": [
        "[Type your answer to 6b here]"
      ]
    },
    {
      "cell_type": "markdown",
      "metadata": {
        "id": "MR9sBLNIp1st",
        "colab_type": "text",
        "pycharm": {}
      },
      "source": [
        "# Classifier"
      ]
    },
    {
      "cell_type": "markdown",
      "metadata": {
        "id": "pFz-3xYcp9WS",
        "colab_type": "text",
        "pycharm": {}
      },
      "source": [
        "7. Create review embeddings using the method you suggested in question 2."
      ]
    },
    {
      "cell_type": "code",
      "metadata": {
        "id": "J0UU_stNp35i",
        "colab_type": "code",
        "colab": {},
        "pycharm": {}
      },
      "source": [
        ""
      ],
      "execution_count": 0,
      "outputs": []
    },
    {
      "cell_type": "markdown",
      "metadata": {
        "id": "brtEjDZnp_Yx",
        "colab_type": "text",
        "pycharm": {}
      },
      "source": [
        "8. Create a classifier and use it to classify the reviews."
      ]
    },
    {
      "cell_type": "code",
      "metadata": {
        "id": "MBb0YmZgqBQx",
        "colab_type": "code",
        "colab": {},
        "pycharm": {}
      },
      "source": [
        ""
      ],
      "execution_count": 0,
      "outputs": []
    },
    {
      "cell_type": "markdown",
      "metadata": {
        "id": "fSuSnuGeqE16",
        "colab_type": "text",
        "pycharm": {}
      },
      "source": [
        "9. Calculate the accuracy, precision, recall and F1 score on the validation set."
      ]
    },
    {
      "cell_type": "code",
      "metadata": {
        "id": "5DmEnht-qH69",
        "colab_type": "code",
        "colab": {},
        "pycharm": {}
      },
      "source": [
        ""
      ],
      "execution_count": 0,
      "outputs": []
    }
  ]
}