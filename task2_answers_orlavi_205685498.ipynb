{
 "cells": [
  {
   "cell_type": "markdown",
   "metadata": {
    "colab_type": "text",
    "id": "xgndsU5h826K",
    "pycharm": {}
   },
   "source": [
    "# Advanced Topics in Data Mining and Knowledge Discovery \n",
    "## Assignment 2 \n",
    "Yelp is a company that  develops, hosts and markets the Yelp.com website and the Yelp mobile app, which publish crowd-sourced reviews about businesses. It also operates an online reservation service called Yelp Reservations. [Wikipedia](https://en.wikipedia.org/wiki/Yelp)\n",
    "\n",
    "In this assignment you will classifying reviews into 3 categories: restaurants, beauty and shopping. The reviews we will be using are from the Kaggle Yelp reviews dataset.\n",
    "\n",
    "The columns are as follows:\n",
    "* review_id  - a unique id for each review.\n",
    "* user_id - a unique id for each user.\n",
    "* business_id - a unique id for each business.\n",
    "* review_date - the date the review was published.\n",
    "* **review_text** - the review itself. \n",
    "* **business_category** - the category the review belong to, either **restaurant**, **beauty** or **shopping**.\n",
    "\n",
    "## Questions \n",
    "\n",
    "### Text Data Cleaning and Preprocessing\n",
    "\n",
    "You're given the following text:\n",
    "\n",
    "\"Eugene loves all animals, but especially cats, he loves cats so much that he has 8 of them. His cats surely love him back, but you never know, as cats are independent creatures.\"\n",
    "\n",
    " You're using either tf–idf or Count vectorization techique for text representation.\n",
    "\n",
    "1. Given that \"cat\" is one of your features, what is the count of \"cat\" in this sentence?"
   ]
  },
  {
   "cell_type": "markdown",
   "metadata": {
    "colab_type": "text",
    "id": "zFLotEX_9Ncr",
    "pycharm": {}
   },
   "source": [
    "Without using lemmatize preprocess the count of cat is 0."
   ]
  },
  {
   "cell_type": "markdown",
   "metadata": {
    "colab_type": "text",
    "id": "WFQ1HfzF9Q63",
    "pycharm": {}
   },
   "source": [
    "2. What can you do to the text so cat and cats will be considered the same? When is it important to do so?"
   ]
  },
  {
   "cell_type": "markdown",
   "metadata": {
    "colab_type": "text",
    "id": "bxJ28g-79bdp",
    "pycharm": {}
   },
   "source": [
    "I need to run lemmatisation algorithm on the text that will group similiar meaning words to the same groups."
   ]
  },
  {
   "cell_type": "markdown",
   "metadata": {
    "colab_type": "text",
    "id": "cd6BI-6W9ehn",
    "pycharm": {}
   },
   "source": [
    "3. What other cleaning operations are important when working with text and why? "
   ]
  },
  {
   "cell_type": "markdown",
   "metadata": {
    "colab_type": "text",
    "id": "ZlIlU7iT9gyn",
    "pycharm": {}
   },
   "source": [
    "Important cleaning operations when wroking on text are:  \n",
    "1. lemmarisartion ( like mentioned in the last question)\n",
    "2. Remove punctuation and very common words that have little meaning, such as ‘the’, ‘and’, etc. All the stop words. This step is important because we dont want those words get high score ( become important paet of the sentence \n",
    "3. Transform all words to lower case. Will make lemmarizartion easier.\n"
   ]
  },
  {
   "cell_type": "markdown",
   "metadata": {
    "colab_type": "text",
    "id": "Z9AE9kq99jKO",
    "pycharm": {}
   },
   "source": [
    "# CODE"
   ]
  },
  {
   "cell_type": "code",
   "execution_count": null,
   "metadata": {
    "colab": {},
    "colab_type": "code",
    "id": "XyNotfKY73jK",
    "pycharm": {
     "name": "#%%\n"
    }
   },
   "outputs": [],
   "source": [
    "# Imports\n",
    "import pandas as pd"
   ]
  },
  {
   "cell_type": "code",
   "execution_count": 171,
   "metadata": {
    "colab": {},
    "colab_type": "code",
    "id": "VQTXWno39vid",
    "pycharm": {}
   },
   "outputs": [],
   "source": [
    "# Data Loading:\n",
    "df = pd.read_csv('https://raw.githubusercontent.com/m-braverman/ta_dm_course_data/master/train3.csv')"
   ]
  },
  {
   "cell_type": "markdown",
   "metadata": {
    "colab_type": "text",
    "id": "cg53FDKY96PD",
    "pycharm": {
     "name": "#%% md\n"
    }
   },
   "source": [
    "4. Prepare the text for the classifier."
   ]
  },
  {
   "cell_type": "code",
   "execution_count": null,
   "metadata": {
    "colab": {},
    "colab_type": "code",
    "id": "bFc2wzVx-tbw",
    "pycharm": {
     "name": "#%%\n"
    }
   },
   "outputs": [],
   "source": [
    "import nltk\n",
    "import string\n",
    "import re\n",
    "from copy import deepcopy\n",
    "from nltk.tokenize import  word_tokenize\n",
    "from nltk.stem import WordNetLemmatizer\n",
    "from sklearn.feature_extraction.text import TfidfVectorizer\n",
    "\n",
    "# nltk.download() - You must download nltk for using \n",
    "stopwords = set(nltk.corpus.stopwords.words('english') + ['reuter', '\\x03'])\n",
    "text_column = 'review_text'\n",
    "lemmatizer = WordNetLemmatizer()\n",
    "table = str.maketrans('', '', string.punctuation)\n",
    "\n",
    "def pre_process(row, column_name):\n",
    "    text_column = deepcopy(row[column_name])\n",
    "    \n",
    "    # Remove punctuation\n",
    "    text_column = text_column.translate(table)\n",
    "    \n",
    "    # Replace numbers wih 'num'\n",
    "    text_column = re.sub(r'\\d+', 'num', text_column)\n",
    "    \n",
    "    # Tokenize\n",
    "    tokenized_row = word_tokenize(text_column)\n",
    "    \n",
    "    # Lemmatize + remove stop words + lower\n",
    "    new_array_of_words = []\n",
    "    for word in tokenized_row:\n",
    "        word = word.lower()\n",
    "        if word not in stopwords:\n",
    "            new_array_of_words.append(lemmatizer.lemmatize(word))\n",
    "    \n",
    "    text_column = \" \".join(new_array_of_words)\n",
    "        \n",
    "    return text_column\n",
    "\n",
    "df[f\"final_{text_column}\"] = df.apply(lambda row: pre_process(row, text_column), axis=1)\n",
    "\n",
    "# Convert to feature vector\n",
    "feature_extraction = TfidfVectorizer()\n",
    "X = feature_extraction.fit_transform(df[f\"final_{text_column}\"].values)\n",
    "\n",
    "df\n",
    "\n"
   ]
  },
  {
   "cell_type": "markdown",
   "metadata": {
    "colab_type": "text",
    "id": "pOAL1px8--IR",
    "pycharm": {}
   },
   "source": [
    "5. Split the data into train and validation sets."
   ]
  },
  {
   "cell_type": "code",
   "execution_count": 173,
   "metadata": {
    "colab": {},
    "colab_type": "code",
    "id": "POkc09mq-_1Z",
    "pycharm": {}
   },
   "outputs": [],
   "source": [
    "\n",
    "from sklearn.model_selection import train_test_split\n",
    "import numpy as np\n",
    "\n",
    "\n",
    "\n",
    "train, validation = train_test_split(df, test_size=0.3)\n",
    "msk = np.random.rand(len(df)) < 0.7\n",
    "\n",
    "X_train = X[msk]\n",
    "y_train = df['business_category'][msk]\n",
    "\n",
    "X_validation = X[~msk]\n",
    "y_validation = df['business_category'][~msk]\n",
    "\n",
    "\n"
   ]
  },
  {
   "cell_type": "markdown",
   "metadata": {
    "colab_type": "text",
    "id": "Dza8yhIQ-HYp",
    "pycharm": {
     "name": "#%% md\n"
    }
   },
   "source": [
    "6. Create and train the a classifier of your choosing:"
   ]
  },
  {
   "cell_type": "code",
   "execution_count": null,
   "metadata": {
    "colab": {},
    "colab_type": "code",
    "id": "s9mSjHy0-IEX",
    "pycharm": {
     "name": "#%%\n"
    }
   },
   "outputs": [],
   "source": [
    "\n",
    "\n",
    "# train classifier\n",
    "from sklearn.naive_bayes import MultinomialNB\n",
    "clf = MultinomialNB().fit(X_train, y_train)\n"
   ]
  },
  {
   "cell_type": "markdown",
   "metadata": {
    "colab_type": "text",
    "id": "AOdp1Unj-O89",
    "pycharm": {}
   },
   "source": [
    "7. Predict on the validation set you set aside previously:"
   ]
  },
  {
   "cell_type": "code",
   "execution_count": 175,
   "metadata": {
    "colab": {},
    "colab_type": "code",
    "id": "T5bRbkEq-PX7",
    "pycharm": {}
   },
   "outputs": [],
   "source": [
    "\n",
    "pred = clf.predict(X_validation)\n"
   ]
  },
  {
   "cell_type": "markdown",
   "metadata": {
    "colab_type": "text",
    "id": "twzb88M3-S6u",
    "pycharm": {}
   },
   "source": [
    "8. Calculate and display the accuracy, precision, recall and F1 score on the validation set:"
   ]
  },
  {
   "cell_type": "code",
   "execution_count": 261,
   "metadata": {
    "colab": {},
    "colab_type": "code",
    "id": "66Xb2nS4-cuM",
    "pycharm": {}
   },
   "outputs": [
    {
     "name": "stdout",
     "output_type": "stream",
     "text": [
      "Accuracy is - 79.51959544879898%\n",
      "F1 score is - 0.7366708072629126\n",
      "Precision score is - 0.8357003746606698\n",
      "Recall score is - 0.7374508021174284\n",
      "Confusion Matrix is - \n"
     ]
    },
    {
     "data": {
      "text/html": [
       "<div>\n",
       "<style scoped>\n",
       "    .dataframe tbody tr th:only-of-type {\n",
       "        vertical-align: middle;\n",
       "    }\n",
       "\n",
       "    .dataframe tbody tr th {\n",
       "        vertical-align: top;\n",
       "    }\n",
       "\n",
       "    .dataframe thead th {\n",
       "        text-align: right;\n",
       "    }\n",
       "</style>\n",
       "<table border=\"1\" class=\"dataframe\">\n",
       "  <thead>\n",
       "    <tr style=\"text-align: right;\">\n",
       "      <th></th>\n",
       "      <th>0</th>\n",
       "      <th>1</th>\n",
       "      <th>2</th>\n",
       "    </tr>\n",
       "  </thead>\n",
       "  <tbody>\n",
       "    <tr>\n",
       "      <th>0</th>\n",
       "      <td>195</td>\n",
       "      <td>27</td>\n",
       "      <td>4</td>\n",
       "    </tr>\n",
       "    <tr>\n",
       "      <th>1</th>\n",
       "      <td>2</td>\n",
       "      <td>363</td>\n",
       "      <td>0</td>\n",
       "    </tr>\n",
       "    <tr>\n",
       "      <th>2</th>\n",
       "      <td>52</td>\n",
       "      <td>77</td>\n",
       "      <td>71</td>\n",
       "    </tr>\n",
       "  </tbody>\n",
       "</table>\n",
       "</div>"
      ],
      "text/plain": [
       "     0    1   2\n",
       "0  195   27   4\n",
       "1    2  363   0\n",
       "2   52   77  71"
      ]
     },
     "execution_count": 261,
     "metadata": {},
     "output_type": "execute_result"
    }
   ],
   "source": [
    "from sklearn import metrics\n",
    "from sklearn.metrics import f1_score,precision_score, recall_score\n",
    "\n",
    "confusion_matrix = metrics.confusion_matrix(y_validation, pred)\n",
    "f1 = f1_score(y_validation, pred, average=\"macro\")\n",
    "precision = precision_score(y_validation, pred, average=\"macro\")\n",
    "recall = recall_score(y_validation, pred, average=\"macro\")\n",
    "\n",
    "print(f\"Accuracy is - {np.mean(pred == y_validation) * 100}%\")\n",
    "print(f\"F1 score is - {f1}\")\n",
    "print(f\"Precision score is - {precision}\")\n",
    "print(f\"Recall score is - {recall}\")\n",
    "print(\"Confusion Matrix is - \")\n",
    "pd.DataFrame(confusion_matrix)\n",
    "\n"
   ]
  },
  {
   "cell_type": "markdown",
   "metadata": {
    "colab_type": "text",
    "id": "GlUyAjHCrrWG",
    "pycharm": {}
   },
   "source": [
    "9. Why do we use validation?"
   ]
  },
  {
   "cell_type": "markdown",
   "metadata": {
    "colab_type": "text",
    "id": "KhoBg0Ljrx50",
    "pycharm": {}
   },
   "source": [
    "We use validation because we need to test our model on data that was not in the train to get our model performance. If we will test our model on trainned data than the results will be too good (overfitted) and we won't know our model performance."
   ]
  },
  {
   "cell_type": "markdown",
   "metadata": {
    "colab_type": "text",
    "id": "rHyzC8LA_XF7",
    "pycharm": {}
   },
   "source": [
    "## LIME\n",
    "LIME is used to explain what machine learning classifiers (or models) are doing.\n",
    "\n",
    "In this part you'll be using lime to gain a deeper understaning of *WHY* the classifier decided to classify a review as a particular category. "
   ]
  },
  {
   "cell_type": "code",
   "execution_count": null,
   "metadata": {
    "colab": {},
    "colab_type": "code",
    "id": "JlTuqYTh_Xju",
    "pycharm": {}
   },
   "outputs": [],
   "source": [
    "! pip install lime"
   ]
  },
  {
   "cell_type": "markdown",
   "metadata": {
    "colab_type": "text",
    "id": "BycgUQ9v_esP",
    "pycharm": {}
   },
   "source": [
    "10. Create an LIME explainer:"
   ]
  },
  {
   "cell_type": "code",
   "execution_count": 250,
   "metadata": {
    "colab": {},
    "colab_type": "code",
    "id": "YchAebHF_fVw",
    "pycharm": {}
   },
   "outputs": [],
   "source": [
    "\n",
    "from sklearn.pipeline import make_pipeline\n",
    "from random import sample\n",
    "\n",
    "# c = make_pipeline(feature_extraction, clf)\n",
    "# print(c.predict_proba([validation[f\"final_{text_column}\"]]))\n",
    "class_names = ['Beauty', 'Restaurant','Shopping']\n",
    "from lime.lime_text import LimeTextExplainer\n",
    "explainer = LimeTextExplainer(class_names=class_names)"
   ]
  },
  {
   "cell_type": "markdown",
   "metadata": {
    "colab_type": "text",
    "id": "dNRfw7hTAWCm",
    "pycharm": {}
   },
   "source": [
    "11. Explain using the LIME explainer the reviews in the generated indices (run the random generator once). Display the results in this notebook, the explanation should be present for all classes."
   ]
  },
  {
   "cell_type": "code",
   "execution_count": 258,
   "metadata": {
    "colab": {},
    "colab_type": "code",
    "id": "aNfd1ivaCW0g",
    "pycharm": {}
   },
   "outputs": [
    {
     "name": "stdout",
     "output_type": "stream",
     "text": [
      "Document id: 72\n",
      "Probability(Beauty) = 0.0016778360183894163\n",
      "Probability(Resturant) = 0.9972963655636207\n",
      "Probability(Shopping) = 0.0010257984179918363\n",
      "True class: Restaurant\n",
      "[('ordered', 0.01006996042832716), ('pasta', 0.00844659031359341), ('meal', 0.008101461552225232), ('beef', 0.007969118078242661), ('menu', 0.0076294100923698805), ('terroni', -0.006585050388098162)]\n",
      "Document id: 134\n",
      "Probability(Beauty) = 0.974411137263074\n",
      "Probability(Resturant) = 0.022435006412692738\n",
      "Probability(Shopping) = 0.003153856324238081\n",
      "True class: Beauty\n",
      "[('spa', -0.045087946827372785), ('treatment', -0.03704682727963171), ('appointment', -0.030080710348156334), ('massage', -0.028154534987072915), ('facility', -0.02147455329709962), ('room', -0.020320916247461168)]\n",
      "Document id: 65\n",
      "Probability(Beauty) = 0.9024222859258673\n",
      "Probability(Resturant) = 0.08766692978168626\n",
      "Probability(Shopping) = 0.00991078429245204\n",
      "True class: Beauty\n",
      "[('pool', -0.09074446445045903), ('tower', -0.038811260935328766), ('room', -0.03467879635779383), ('shower', -0.027676472622722253), ('mgm', -0.02687995603383383), ('bedroom', -0.021843273007699428)]\n"
     ]
    }
   ],
   "source": [
    "# Random index generator:\n",
    "samples = sample(range(1,200), 3)\n",
    "\n",
    "c = make_pipeline(feature_extraction,clf)\n",
    "\n",
    "for random_index in samples:\n",
    "    random_variable = list(validation[\"final_review_text\"])[random_index]\n",
    "    exp = explainer.explain_instance(random_variable, c.predict_proba, num_features=6)\n",
    "    probabilities = c.predict_proba([random_variable])\n",
    "    print('Document id: %d' % random_index)\n",
    "    print('Probability(Beauty) =', probabilities[0,0])\n",
    "    print('Probability(Resturant) =', probabilities[0,1])\n",
    "    print('Probability(Shopping) =', probabilities[0,2])\n",
    "    print('True class: %s' % list(validation[\"business_category\"])[random_index])\n",
    "\n",
    "    print(exp.as_list())"
   ]
  }
 ],
 "metadata": {
  "colab": {
   "collapsed_sections": [],
   "name": "ST_Assignment2.ipynb",
   "provenance": [],
   "version": "0.3.2"
  },
  "kernelspec": {
   "display_name": "Python 3",
   "language": "python",
   "name": "python3"
  },
  "language_info": {
   "codemirror_mode": {
    "name": "ipython",
    "version": 3
   },
   "file_extension": ".py",
   "mimetype": "text/x-python",
   "name": "python",
   "nbconvert_exporter": "python",
   "pygments_lexer": "ipython3",
   "version": "3.7.3"
  }
 },
 "nbformat": 4,
 "nbformat_minor": 1
}
