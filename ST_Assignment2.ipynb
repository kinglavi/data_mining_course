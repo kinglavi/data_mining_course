{
 "cells": [
  {
   "cell_type": "markdown",
   "metadata": {
    "colab_type": "text",
    "id": "xgndsU5h826K"
   },
   "source": [
    "# Advanced Topics in Data Mining and Knowledge Discovery \n",
    "## Assignment 2 \n",
    "Yelp is a company that  develops, hosts and markets the Yelp.com website and the Yelp mobile app, which publish crowd-sourced reviews about businesses. It also operates an online reservation service called Yelp Reservations. [Wikipedia](https://en.wikipedia.org/wiki/Yelp)\n",
    "\n",
    "In this assignment you will classifying reviews into 3 categories: restaurants, beauty and shopping. The reviews we will be using are from the Kaggle Yelp reviews dataset.\n",
    "\n",
    "The columns are as follows:\n",
    "* review_id  - a unique id for each review.\n",
    "* user_id - a unique id for each user.\n",
    "* business_id - a unique id for each business.\n",
    "* review_date - the date the review was published.\n",
    "* **review_text** - the review itself. \n",
    "* **business_category** - the category the review belong to, either **restaurant**, **beauty** or **shopping**.\n",
    "\n",
    "## Questions \n",
    "\n",
    "### Text Data Cleaning and Preprocessing\n",
    "\n",
    "You're given the following text:\n",
    "\n",
    "\"Eugene loves all animals, but especially cats, he loves cats so much that he has 8 of them. His cats surely love him back, but you never know, as cats are independent creatures.\"\n",
    "\n",
    " You're using either tf–idf or Count vectorization techique for text representation.\n",
    "\n",
    "1. Given that \"cat\" is one of your features, what is the count of \"cat\" in this sentence?"
   ]
  },
  {
   "cell_type": "markdown",
   "metadata": {
    "colab_type": "text",
    "id": "zFLotEX_9Ncr"
   },
   "source": [
    "[ Type you answer here ]"
   ]
  },
  {
   "cell_type": "markdown",
   "metadata": {
    "colab_type": "text",
    "id": "WFQ1HfzF9Q63"
   },
   "source": [
    "2. What can you do to the text so cat and cats will be considered the same? When is it important to do so?"
   ]
  },
  {
   "cell_type": "markdown",
   "metadata": {
    "colab_type": "text",
    "id": "bxJ28g-79bdp"
   },
   "source": [
    "[ Type you answer here ]"
   ]
  },
  {
   "cell_type": "markdown",
   "metadata": {
    "colab_type": "text",
    "id": "cd6BI-6W9ehn"
   },
   "source": [
    "3. What other cleaning operations are important when working with text and why? "
   ]
  },
  {
   "cell_type": "markdown",
   "metadata": {
    "colab_type": "text",
    "id": "ZlIlU7iT9gyn"
   },
   "source": [
    "[ Type you answer here ]"
   ]
  },
  {
   "cell_type": "markdown",
   "metadata": {
    "colab_type": "text",
    "id": "Z9AE9kq99jKO"
   },
   "source": [
    "# CODE"
   ]
  },
  {
   "cell_type": "code",
   "execution_count": 0,
   "metadata": {
    "colab": {},
    "colab_type": "code",
    "id": "XyNotfKY73jK"
   },
   "outputs": [],
   "source": [
    "# Imports\n",
    "import pandas as pd"
   ]
  },
  {
   "cell_type": "code",
   "execution_count": 0,
   "metadata": {
    "colab": {},
    "colab_type": "code",
    "id": "VQTXWno39vid"
   },
   "outputs": [],
   "source": [
    "# Data Loading:\n",
    "df = pd.read_csv('https://raw.githubusercontent.com/m-braverman/ta_dm_course_data/master/train3.csv')"
   ]
  },
  {
   "cell_type": "markdown",
   "metadata": {
    "colab_type": "text",
    "id": "cg53FDKY96PD"
   },
   "source": [
    "4. Prepare the text for the classifier."
   ]
  },
  {
   "cell_type": "code",
   "execution_count": 0,
   "metadata": {
    "colab": {},
    "colab_type": "code",
    "id": "bFc2wzVx-tbw"
   },
   "outputs": [],
   "source": []
  },
  {
   "cell_type": "markdown",
   "metadata": {
    "colab_type": "text",
    "id": "pOAL1px8--IR"
   },
   "source": [
    "5. Split the data into train and validation sets."
   ]
  },
  {
   "cell_type": "code",
   "execution_count": 0,
   "metadata": {
    "colab": {},
    "colab_type": "code",
    "id": "POkc09mq-_1Z"
   },
   "outputs": [],
   "source": []
  },
  {
   "cell_type": "markdown",
   "metadata": {
    "colab_type": "text",
    "id": "Dza8yhIQ-HYp"
   },
   "source": [
    "6. Create and train the a classifier of your choosing:"
   ]
  },
  {
   "cell_type": "code",
   "execution_count": 0,
   "metadata": {
    "colab": {},
    "colab_type": "code",
    "id": "s9mSjHy0-IEX"
   },
   "outputs": [],
   "source": []
  },
  {
   "cell_type": "markdown",
   "metadata": {
    "colab_type": "text",
    "id": "AOdp1Unj-O89"
   },
   "source": [
    "7. Predict on the validation set you set aside previously:"
   ]
  },
  {
   "cell_type": "code",
   "execution_count": 0,
   "metadata": {
    "colab": {},
    "colab_type": "code",
    "id": "T5bRbkEq-PX7"
   },
   "outputs": [],
   "source": []
  },
  {
   "cell_type": "markdown",
   "metadata": {
    "colab_type": "text",
    "id": "twzb88M3-S6u"
   },
   "source": [
    "8. Calculate and display the accuracy, precision, recall and F1 score on the validation set:"
   ]
  },
  {
   "cell_type": "code",
   "execution_count": 0,
   "metadata": {
    "colab": {},
    "colab_type": "code",
    "id": "66Xb2nS4-cuM"
   },
   "outputs": [],
   "source": []
  },
  {
   "cell_type": "markdown",
   "metadata": {
    "colab_type": "text",
    "id": "GlUyAjHCrrWG"
   },
   "source": [
    "9. Why do we use validation?"
   ]
  },
  {
   "cell_type": "markdown",
   "metadata": {
    "colab_type": "text",
    "id": "KhoBg0Ljrx50"
   },
   "source": [
    "[Type your answer here]"
   ]
  },
  {
   "cell_type": "markdown",
   "metadata": {
    "colab_type": "text",
    "id": "rHyzC8LA_XF7"
   },
   "source": [
    "## LIME\n",
    "LIME is used to explain what machine learning classifiers (or models) are doing.\n",
    "\n",
    "In this part you'll be using lime to gain a deeper understaning of *WHY* the classifier decided to classify a review as a particular category. "
   ]
  },
  {
   "cell_type": "code",
   "execution_count": 0,
   "metadata": {
    "colab": {},
    "colab_type": "code",
    "id": "JlTuqYTh_Xju"
   },
   "outputs": [],
   "source": [
    "! pip install lime"
   ]
  },
  {
   "cell_type": "code",
   "execution_count": 0,
   "metadata": {
    "colab": {},
    "colab_type": "code",
    "id": "spxM4yy6_eiA"
   },
   "outputs": [],
   "source": [
    "# imports - add yours.\n",
    "from random import sample"
   ]
  },
  {
   "cell_type": "markdown",
   "metadata": {
    "colab_type": "text",
    "id": "BycgUQ9v_esP"
   },
   "source": [
    "10. Create an LIME explainer:"
   ]
  },
  {
   "cell_type": "code",
   "execution_count": 0,
   "metadata": {
    "colab": {},
    "colab_type": "code",
    "id": "YchAebHF_fVw"
   },
   "outputs": [],
   "source": []
  },
  {
   "cell_type": "markdown",
   "metadata": {
    "colab_type": "text",
    "id": "dNRfw7hTAWCm"
   },
   "source": [
    "11. Explain using the LIME explainer the reviews in the generated indices (run the random generator once). Display the results in this notebook, the explanation should be present for all classes."
   ]
  },
  {
   "cell_type": "code",
   "execution_count": 0,
   "metadata": {
    "colab": {
     "base_uri": "https://localhost:8080/",
     "height": 34
    },
    "colab_type": "code",
    "executionInfo": {
     "elapsed": 744,
     "status": "ok",
     "timestamp": 1559740913986,
     "user": {
      "displayName": "Maria Braverman Masi",
      "photoUrl": "",
      "userId": "06811637159477557120"
     },
     "user_tz": -180
    },
    "id": "Uh9wcN-rAuXO",
    "outputId": "64829d7d-3f99-489d-80df-3dc7bff3bb82"
   },
   "outputs": [
    {
     "data": {
      "text/plain": [
       "[136, 168, 82]"
      ]
     },
     "execution_count": 16,
     "metadata": {
      "tags": []
     },
     "output_type": "execute_result"
    }
   ],
   "source": [
    "# Random index generator:\n",
    "sample(range(1,200), 3)"
   ]
  },
  {
   "cell_type": "code",
   "execution_count": 0,
   "metadata": {
    "colab": {},
    "colab_type": "code",
    "id": "aNfd1ivaCW0g"
   },
   "outputs": [],
   "source": []
  }
 ],
 "metadata": {
  "colab": {
   "collapsed_sections": [],
   "name": "ST_Assignment2.ipynb",
   "provenance": [],
   "version": "0.3.2"
  },
  "kernelspec": {
   "display_name": "Python 3",
   "language": "python",
   "name": "python3"
  },
  "language_info": {
   "codemirror_mode": {
    "name": "ipython",
    "version": 3
   },
   "file_extension": ".py",
   "mimetype": "text/x-python",
   "name": "python",
   "nbconvert_exporter": "python",
   "pygments_lexer": "ipython3",
   "version": "3.7.3"
  }
 },
 "nbformat": 4,
 "nbformat_minor": 1
}
